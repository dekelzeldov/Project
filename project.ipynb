{
 "cells": [
  {
   "cell_type": "code",
   "execution_count": 100,
   "metadata": {},
   "outputs": [],
   "source": [
    "from datasets import Dataset\n",
    "from datasets import DatasetDict\n",
    "from datasets import concatenate_datasets\n",
    "from datasets import load_metric\n",
    "from transformers import AutoModelForSequenceClassification\n",
    "from transformers import AutoTokenizer\n",
    "from transformers import DataCollatorWithPadding\n",
    "from transformers import TrainingArguments\n",
    "from transformers import Trainer\n",
    "from transformers import pipeline\n",
    "import csv\n",
    "import numpy as np"
   ]
  },
  {
   "cell_type": "code",
   "execution_count": 108,
   "metadata": {},
   "outputs": [
    {
     "name": "stderr",
     "output_type": "stream",
     "text": [
      "/opt/homebrew/lib/python3.11/site-packages/datasets/table.py:1395: FutureWarning: promote has been superseded by mode='default'.\n",
      "  block_group = [InMemoryTable(cls._concat_blocks(list(block_group), axis=axis))]\n",
      "/opt/homebrew/lib/python3.11/site-packages/datasets/table.py:1421: FutureWarning: promote has been superseded by mode='default'.\n",
      "  table = cls._concat_blocks(blocks, axis=0)\n"
     ]
    }
   ],
   "source": [
    "# labels to ids\n",
    "id2label = {0: \"negative\", 1: \"neutral\", 2:\"positive\"}\n",
    "label2id = {v: k for k, v in id2label.items()}\n",
    "\n",
    "# fuction to creat dataset from file\n",
    "# TODO to be with pandas + add fillters\n",
    "def file_to_dataset(filename):\n",
    "    tweets_list = []\n",
    "    labels_list = []\n",
    "    with open(filename, \"r\", encoding=\"utf8\") as file:\n",
    "        tsv_reader = csv.reader(file, delimiter=\"\\t\")\n",
    "        for line in tsv_reader:\n",
    "            (id, label, tweet) = line\n",
    "            tweets_list.append(tweet)\n",
    "            labels_list.append(label2id[label])\n",
    "    return Dataset.from_dict({\"text\": tweets_list, \"label\":labels_list})\n",
    "\n",
    "# creat the dataset\n",
    "train_data_2013 = file_to_dataset(\"semeval-2017-tweets_Subtask-A/downloaded/twitter-2013train-A.tsv\")\n",
    "train_data_2015 = file_to_dataset(\"semeval-2017-tweets_Subtask-A/downloaded/twitter-2015train-A.tsv\")\n",
    "train_data_2016 = file_to_dataset(\"semeval-2017-tweets_Subtask-A/downloaded/twitter-2016train-A.tsv\")\n",
    "test_data = file_to_dataset(\"semeval-2017-tweets_Subtask-A/downloaded/twitter-2015test-A.tsv\")\n",
    "dataset = DatasetDict({\"train\": concatenate_datasets([train_data_2013, train_data_2015, train_data_2016]), \"validation\":test_data})\n",
    "\n",
    "# show sample\n",
    "sample = dataset[\"train\"].shuffle().select(range(3))\n",
    "for row in sample:\n",
    "    print(f\"\\n'>>> tweet: {row['text']}'\")\n",
    "    print(f\"'>>> Label: {row['label']}'\")\n"
   ]
  },
  {
   "cell_type": "code",
   "execution_count": 102,
   "metadata": {},
   "outputs": [
    {
     "name": "stderr",
     "output_type": "stream",
     "text": [
      "Some weights of DistilBertForSequenceClassification were not initialized from the model checkpoint at distilbert-base-uncased and are newly initialized: ['pre_classifier.bias', 'classifier.bias', 'classifier.weight', 'pre_classifier.weight']\n",
      "You should probably TRAIN this model on a down-stream task to be able to use it for predictions and inference.\n"
     ]
    }
   ],
   "source": [
    "# load pretraind modle and tokenizer from checkpoint\n",
    "model_checkpoint = \"distilbert-base-uncased\"\n",
    "model = AutoModelForSequenceClassification.from_pretrained(model_checkpoint, num_labels=3, \n",
    "    id2label=id2label,\n",
    "    label2id=label2id)\n",
    "tokenizer = AutoTokenizer.from_pretrained(model_checkpoint)\n"
   ]
  },
  {
   "cell_type": "code",
   "execution_count": 103,
   "metadata": {},
   "outputs": [
    {
     "data": {
      "application/vnd.jupyter.widget-view+json": {
       "model_id": "678e29ae4b5746d88a721a9c5083bd8d",
       "version_major": 2,
       "version_minor": 0
      },
      "text/plain": [
       "Map:   0%|          | 0/16041 [00:00<?, ? examples/s]"
      ]
     },
     "metadata": {},
     "output_type": "display_data"
    },
    {
     "data": {
      "application/vnd.jupyter.widget-view+json": {
       "model_id": "fc0ba23ddcb64eed9a0c99519f72e206",
       "version_major": 2,
       "version_minor": 0
      },
      "text/plain": [
       "Map:   0%|          | 0/2390 [00:00<?, ? examples/s]"
      ]
     },
     "metadata": {},
     "output_type": "display_data"
    }
   ],
   "source": [
    "data_collator = DataCollatorWithPadding(tokenizer=tokenizer)\n",
    "\n",
    "# tokenize the data\n",
    "def tokenize_function(tweet):\n",
    "    return tokenizer(tweet[\"text\"] , truncation=True)\n",
    "tokenized_datasets = dataset.map(tokenize_function, batched=True)\n",
    "\n",
    "def compute_metrics(eval_pred):\n",
    "   load_accuracy = load_metric(\"accuracy\")\n",
    "   load_f1 = load_metric(\"f1\")\n",
    "   # TODO add\n",
    "   # precition\n",
    "   # recall\n",
    "  \n",
    "   logits, labels = eval_pred\n",
    "   predictions = np.argmax(logits, axis=-1)\n",
    "   accuracy = load_accuracy.compute(predictions=predictions, references=labels)[\"accuracy\"]\n",
    "   f1 = load_f1.compute(predictions=predictions, references=labels, average=\"micro\")[\"f1\"]\n",
    "   return {\"accuracy\": accuracy, \"f1\": f1}\n"
   ]
  },
  {
   "cell_type": "code",
   "execution_count": 104,
   "metadata": {},
   "outputs": [],
   "source": [
    "# TODO try fine tuning\n",
    "training_args = TrainingArguments(\n",
    "   output_dir=\"finetuning\",\n",
    "   per_device_train_batch_size=16,\n",
    "   per_device_eval_batch_size=16,\n",
    "   num_train_epochs=10,\n",
    "   learning_rate=6e-6,\n",
    "   evaluation_strategy=\"epoch\"\n",
    ")\n",
    "\n",
    "# initialize trainer \n",
    "trainer = Trainer(\n",
    "    model=model,\n",
    "    args=training_args,\n",
    "    train_dataset=tokenized_datasets[\"train\"],\n",
    "    eval_dataset=tokenized_datasets[\"validation\"],\n",
    "    tokenizer=tokenizer,\n",
    "    data_collator=data_collator,\n",
    "    compute_metrics=compute_metrics\n",
    ")"
   ]
  },
  {
   "cell_type": "code",
   "execution_count": 105,
   "metadata": {},
   "outputs": [
    {
     "data": {
      "application/vnd.jupyter.widget-view+json": {
       "model_id": "3450ca61815641e6b7acf58aaaff8e9b",
       "version_major": 2,
       "version_minor": 0
      },
      "text/plain": [
       "  0%|          | 0/4012 [00:00<?, ?it/s]"
      ]
     },
     "metadata": {},
     "output_type": "display_data"
    },
    {
     "name": "stderr",
     "output_type": "stream",
     "text": [
      "You're using a DistilBertTokenizerFast tokenizer. Please note that with a fast tokenizer, using the `__call__` method is faster than using a method to encode the text followed by a call to the `pad` method to get a padded encoding.\n"
     ]
    },
    {
     "name": "stdout",
     "output_type": "stream",
     "text": [
      "{'loss': 0.7661, 'learning_rate': 4.376869391824527e-05, 'epoch': 0.5}\n",
      "{'loss': 0.661, 'learning_rate': 3.7537387836490526e-05, 'epoch': 1.0}\n"
     ]
    },
    {
     "data": {
      "application/vnd.jupyter.widget-view+json": {
       "model_id": "0ec8d68461c44c90a430a1827740fc20",
       "version_major": 2,
       "version_minor": 0
      },
      "text/plain": [
       "  0%|          | 0/150 [00:00<?, ?it/s]"
      ]
     },
     "metadata": {},
     "output_type": "display_data"
    },
    {
     "name": "stdout",
     "output_type": "stream",
     "text": [
      "{'eval_loss': 0.6344468593597412, 'eval_accuracy': 0.7217573221757322, 'eval_f1': 0.7217573221757322, 'eval_runtime': 5.4812, 'eval_samples_per_second': 436.034, 'eval_steps_per_second': 27.366, 'epoch': 1.0}\n",
      "{'loss': 0.4321, 'learning_rate': 3.1306081754735795e-05, 'epoch': 1.5}\n",
      "{'loss': 0.4469, 'learning_rate': 2.507477567298106e-05, 'epoch': 1.99}\n"
     ]
    },
    {
     "data": {
      "application/vnd.jupyter.widget-view+json": {
       "model_id": "4261898170ff4698a027ff7fa1036e3a",
       "version_major": 2,
       "version_minor": 0
      },
      "text/plain": [
       "  0%|          | 0/150 [00:00<?, ?it/s]"
      ]
     },
     "metadata": {},
     "output_type": "display_data"
    },
    {
     "name": "stdout",
     "output_type": "stream",
     "text": [
      "{'eval_loss': 0.766244113445282, 'eval_accuracy': 0.702510460251046, 'eval_f1': 0.702510460251046, 'eval_runtime': 7.229, 'eval_samples_per_second': 330.611, 'eval_steps_per_second': 20.75, 'epoch': 2.0}\n",
      "{'loss': 0.2354, 'learning_rate': 1.8843469591226323e-05, 'epoch': 2.49}\n",
      "{'loss': 0.2302, 'learning_rate': 1.2612163509471586e-05, 'epoch': 2.99}\n"
     ]
    },
    {
     "data": {
      "application/vnd.jupyter.widget-view+json": {
       "model_id": "3adb22fee3da47ca85a38506876aca98",
       "version_major": 2,
       "version_minor": 0
      },
      "text/plain": [
       "  0%|          | 0/150 [00:00<?, ?it/s]"
      ]
     },
     "metadata": {},
     "output_type": "display_data"
    },
    {
     "name": "stdout",
     "output_type": "stream",
     "text": [
      "{'eval_loss': 1.0257704257965088, 'eval_accuracy': 0.703347280334728, 'eval_f1': 0.703347280334728, 'eval_runtime': 5.2549, 'eval_samples_per_second': 454.815, 'eval_steps_per_second': 28.545, 'epoch': 3.0}\n",
      "{'loss': 0.1031, 'learning_rate': 6.380857427716849e-06, 'epoch': 3.49}\n",
      "{'loss': 0.1189, 'learning_rate': 1.4955134596211367e-07, 'epoch': 3.99}\n"
     ]
    },
    {
     "data": {
      "application/vnd.jupyter.widget-view+json": {
       "model_id": "8ac3338990d94dbda367e95b3e65d279",
       "version_major": 2,
       "version_minor": 0
      },
      "text/plain": [
       "  0%|          | 0/150 [00:00<?, ?it/s]"
      ]
     },
     "metadata": {},
     "output_type": "display_data"
    },
    {
     "name": "stdout",
     "output_type": "stream",
     "text": [
      "{'eval_loss': 1.415643334388733, 'eval_accuracy': 0.7071129707112971, 'eval_f1': 0.707112970711297, 'eval_runtime': 5.7211, 'eval_samples_per_second': 417.752, 'eval_steps_per_second': 26.219, 'epoch': 4.0}\n",
      "{'train_runtime': 739.8645, 'train_samples_per_second': 86.724, 'train_steps_per_second': 5.423, 'train_loss': 0.3736339961424663, 'epoch': 4.0}\n"
     ]
    },
    {
     "data": {
      "text/plain": [
       "TrainOutput(global_step=4012, training_loss=0.3736339961424663, metrics={'train_runtime': 739.8645, 'train_samples_per_second': 86.724, 'train_steps_per_second': 5.423, 'train_loss': 0.3736339961424663, 'epoch': 4.0})"
      ]
     },
     "execution_count": 105,
     "metadata": {},
     "output_type": "execute_result"
    }
   ],
   "source": [
    "trainer.train()"
   ]
  },
  {
   "cell_type": "code",
   "execution_count": 106,
   "metadata": {},
   "outputs": [
    {
     "data": {
      "application/vnd.jupyter.widget-view+json": {
       "model_id": "1ffd919ee5774861a675aa5caa17d09a",
       "version_major": 2,
       "version_minor": 0
      },
      "text/plain": [
       "  0%|          | 0/150 [00:00<?, ?it/s]"
      ]
     },
     "metadata": {},
     "output_type": "display_data"
    },
    {
     "data": {
      "text/plain": [
       "{'eval_loss': 1.415643334388733,\n",
       " 'eval_accuracy': 0.7071129707112971,\n",
       " 'eval_f1': 0.707112970711297,\n",
       " 'eval_runtime': 6.2804,\n",
       " 'eval_samples_per_second': 380.551,\n",
       " 'eval_steps_per_second': 23.884,\n",
       " 'epoch': 4.0}"
      ]
     },
     "execution_count": 106,
     "metadata": {},
     "output_type": "execute_result"
    }
   ],
   "source": [
    "trainer.evaluate()"
   ]
  }
 ],
 "metadata": {
  "kernelspec": {
   "display_name": "Python 3",
   "language": "python",
   "name": "python3"
  },
  "language_info": {
   "codemirror_mode": {
    "name": "ipython",
    "version": 3
   },
   "file_extension": ".py",
   "mimetype": "text/x-python",
   "name": "python",
   "nbconvert_exporter": "python",
   "pygments_lexer": "ipython3",
   "version": "3.11.5"
  }
 },
 "nbformat": 4,
 "nbformat_minor": 2
}
